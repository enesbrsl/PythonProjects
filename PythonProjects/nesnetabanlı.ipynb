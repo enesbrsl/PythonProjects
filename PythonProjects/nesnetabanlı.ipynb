{
 "cells": [
  {
   "cell_type": "code",
   "execution_count": 1,
   "id": "a5e169f8",
   "metadata": {},
   "outputs": [],
   "source": [
    "class araba():\n",
    "    model=\"BMW\"\n",
    "    renk=\"beyaz\"\n",
    "    beygir_gücü=150\n",
    "    silindir=4"
   ]
  },
  {
   "cell_type": "code",
   "execution_count": 2,
   "id": "166af2a2",
   "metadata": {},
   "outputs": [],
   "source": [
    "araba1=araba()"
   ]
  },
  {
   "cell_type": "code",
   "execution_count": 3,
   "id": "9191a377",
   "metadata": {},
   "outputs": [
    {
     "data": {
      "text/plain": [
       "<__main__.araba at 0x26999deda90>"
      ]
     },
     "execution_count": 3,
     "metadata": {},
     "output_type": "execute_result"
    }
   ],
   "source": [
    "araba1"
   ]
  },
  {
   "cell_type": "code",
   "execution_count": 4,
   "id": "285ba335",
   "metadata": {},
   "outputs": [],
   "source": [
    "araba2=araba()"
   ]
  },
  {
   "cell_type": "code",
   "execution_count": 5,
   "id": "3e7f5b87",
   "metadata": {},
   "outputs": [
    {
     "data": {
      "text/plain": [
       "<__main__.araba at 0x26999dab450>"
      ]
     },
     "execution_count": 5,
     "metadata": {},
     "output_type": "execute_result"
    }
   ],
   "source": [
    "araba2"
   ]
  },
  {
   "cell_type": "code",
   "execution_count": 6,
   "id": "5b30a337",
   "metadata": {},
   "outputs": [
    {
     "data": {
      "text/plain": [
       "'BMW'"
      ]
     },
     "execution_count": 6,
     "metadata": {},
     "output_type": "execute_result"
    }
   ],
   "source": [
    "araba1.model"
   ]
  },
  {
   "cell_type": "code",
   "execution_count": 7,
   "id": "6ff48010",
   "metadata": {},
   "outputs": [
    {
     "data": {
      "text/plain": [
       "'beyaz'"
      ]
     },
     "execution_count": 7,
     "metadata": {},
     "output_type": "execute_result"
    }
   ],
   "source": [
    "araba1.renk"
   ]
  },
  {
   "cell_type": "code",
   "execution_count": 11,
   "id": "400c37c8",
   "metadata": {},
   "outputs": [],
   "source": [
    "class araba():\n",
    "    def __init__(self,model=\"bilgi yok\",renk=\"bilgi yok\",motor_hacmi=1.0,silindir=4):\n",
    "        print(\"init fonk cagirildi\")\n",
    "        self.model=model\n",
    "        self.renk=renk\n",
    "        self.motor_hacmi=motor_hacmi\n",
    "        self.silindir=silindir\n",
    "        "
   ]
  },
  {
   "cell_type": "code",
   "execution_count": 12,
   "id": "496fdff6",
   "metadata": {},
   "outputs": [
    {
     "name": "stdout",
     "output_type": "stream",
     "text": [
      "init fonk cagirildi\n"
     ]
    }
   ],
   "source": [
    "araba1=araba(\"audi A3\",\"siyah\",2.0,4)"
   ]
  },
  {
   "cell_type": "code",
   "execution_count": 14,
   "id": "66d2d362",
   "metadata": {},
   "outputs": [
    {
     "data": {
      "text/plain": [
       "'siyah'"
      ]
     },
     "execution_count": 14,
     "metadata": {},
     "output_type": "execute_result"
    }
   ],
   "source": [
    "araba1.renk"
   ]
  },
  {
   "cell_type": "code",
   "execution_count": 15,
   "id": "7065f20d",
   "metadata": {},
   "outputs": [
    {
     "name": "stdout",
     "output_type": "stream",
     "text": [
      "init fonk cagirildi\n"
     ]
    }
   ],
   "source": [
    "araba2=araba(\"honda civic\",\"beyaz\",1.6,4)"
   ]
  },
  {
   "cell_type": "code",
   "execution_count": 16,
   "id": "cabc8789",
   "metadata": {},
   "outputs": [
    {
     "data": {
      "text/plain": [
       "'audi A3'"
      ]
     },
     "execution_count": 16,
     "metadata": {},
     "output_type": "execute_result"
    }
   ],
   "source": [
    "araba1.model"
   ]
  },
  {
   "cell_type": "code",
   "execution_count": 17,
   "id": "1bd01358",
   "metadata": {},
   "outputs": [
    {
     "data": {
      "text/plain": [
       "'honda civic'"
      ]
     },
     "execution_count": 17,
     "metadata": {},
     "output_type": "execute_result"
    }
   ],
   "source": [
    "araba2.model"
   ]
  },
  {
   "cell_type": "code",
   "execution_count": 18,
   "id": "c75dfa0c",
   "metadata": {},
   "outputs": [
    {
     "data": {
      "text/plain": [
       "'beyaz'"
      ]
     },
     "execution_count": 18,
     "metadata": {},
     "output_type": "execute_result"
    }
   ],
   "source": [
    "araba2.renk"
   ]
  },
  {
   "cell_type": "code",
   "execution_count": 86,
   "id": "59e0f06b",
   "metadata": {},
   "outputs": [],
   "source": [
    "class yazılımcı():\n",
    "    def __init__(self,isim,soyisim,maas,bildigi_diller):\n",
    "        self.isim=isim\n",
    "        self.soyisim=soyisim\n",
    "        self.maas=maas\n",
    "        self.bildigi_diller=bildigi_diller\n",
    "    def bilgileri_goster(self):\n",
    "        print(\"\"\"yazılımcı bilgileri\n",
    "        \n",
    "    1.isim={}\n",
    "    2.soyisim={}\n",
    "    3.maas={}\n",
    "    4.bildigi_diller={}\n",
    "        \"\"\".format(self.isim,self.soyisim,self.maas,self.bildigi_diller))\n",
    "    def zamyap(self,zammiktarı):\n",
    "        print(\"zam yapılıyor...\")\n",
    "        self.maas+=zammiktarı\n",
    "    def dilekle(self,eklenendil):\n",
    "        print(\"dil ekleniyor...\")\n",
    "        self.bildigi_diller.append(eklenendil)\n",
    "        "
   ]
  },
  {
   "cell_type": "code",
   "execution_count": 87,
   "id": "70ddf2c6",
   "metadata": {},
   "outputs": [],
   "source": [
    "yazılımcı1=yazılımcı(\"enes\",\"bursalı\",50000,[\"python\",\"c\"])"
   ]
  },
  {
   "cell_type": "code",
   "execution_count": 88,
   "id": "c15c0ebd",
   "metadata": {},
   "outputs": [
    {
     "data": {
      "text/plain": [
       "'enes'"
      ]
     },
     "execution_count": 88,
     "metadata": {},
     "output_type": "execute_result"
    }
   ],
   "source": [
    "yazılımcı1.isim"
   ]
  },
  {
   "cell_type": "code",
   "execution_count": 89,
   "id": "23b0f346",
   "metadata": {},
   "outputs": [
    {
     "name": "stdout",
     "output_type": "stream",
     "text": [
      "yazılımcı bilgileri\n",
      "        \n",
      "    1.isim=enes\n",
      "    2.soyisim=bursalı\n",
      "    3.maas=50000\n",
      "    4.bildigi_diller=['python', 'c']\n",
      "        \n"
     ]
    }
   ],
   "source": [
    "yazılımcı1.bilgileri_goster()"
   ]
  },
  {
   "cell_type": "code",
   "execution_count": 90,
   "id": "555550d7",
   "metadata": {},
   "outputs": [
    {
     "name": "stdout",
     "output_type": "stream",
     "text": [
      "zam yapılıyor...\n"
     ]
    }
   ],
   "source": [
    "yazılımcı1.zamyap(1000)"
   ]
  },
  {
   "cell_type": "code",
   "execution_count": 91,
   "id": "2b678073",
   "metadata": {},
   "outputs": [
    {
     "name": "stdout",
     "output_type": "stream",
     "text": [
      "yazılımcı bilgileri\n",
      "        \n",
      "    1.isim=enes\n",
      "    2.soyisim=bursalı\n",
      "    3.maas=51000\n",
      "    4.bildigi_diller=['python', 'c']\n",
      "        \n"
     ]
    }
   ],
   "source": [
    "yazılımcı1.bilgileri_goster()"
   ]
  },
  {
   "cell_type": "code",
   "execution_count": 92,
   "id": "99275106",
   "metadata": {},
   "outputs": [
    {
     "name": "stdout",
     "output_type": "stream",
     "text": [
      "dil ekleniyor...\n"
     ]
    }
   ],
   "source": [
    "yazılımcı1.dilekle(\"c#\")"
   ]
  },
  {
   "cell_type": "code",
   "execution_count": 93,
   "id": "f3310fe6",
   "metadata": {},
   "outputs": [
    {
     "name": "stdout",
     "output_type": "stream",
     "text": [
      "yazılımcı bilgileri\n",
      "        \n",
      "    1.isim=enes\n",
      "    2.soyisim=bursalı\n",
      "    3.maas=51000\n",
      "    4.bildigi_diller=['python', 'c', 'c#']\n",
      "        \n"
     ]
    }
   ],
   "source": [
    "yazılımcı1.bilgileri_goster()"
   ]
  },
  {
   "cell_type": "code",
   "execution_count": null,
   "id": "ed87cc74",
   "metadata": {},
   "outputs": [],
   "source": []
  }
 ],
 "metadata": {
  "kernelspec": {
   "display_name": "Python 3 (ipykernel)",
   "language": "python",
   "name": "python3"
  },
  "language_info": {
   "codemirror_mode": {
    "name": "ipython",
    "version": 3
   },
   "file_extension": ".py",
   "mimetype": "text/x-python",
   "name": "python",
   "nbconvert_exporter": "python",
   "pygments_lexer": "ipython3",
   "version": "3.11.5"
  }
 },
 "nbformat": 4,
 "nbformat_minor": 5
}
